{
  "nbformat": 4,
  "nbformat_minor": 0,
  "metadata": {
    "colab": {
      "name": "「「「Untitled1.ipynb」的副本」的副本」的副本",
      "provenance": [],
      "collapsed_sections": [],
      "toc_visible": true,
      "include_colab_link": true
    },
    "kernelspec": {
      "name": "python3",
      "display_name": "Python 3"
    },
    "accelerator": "GPU"
  },
  "cells": [
    {
      "cell_type": "markdown",
      "metadata": {
        "id": "view-in-github",
        "colab_type": "text"
      },
      "source": [
        "<a href=\"https://colab.research.google.com/github/jackychia/AIforCE/blob/master/2912_%E7%B5%B1%E4%B8%80_model%E9%9A%8E%E6%AE%B5%E4%BA%94.ipynb\" target=\"_parent\"><img src=\"https://colab.research.google.com/assets/colab-badge.svg\" alt=\"Open In Colab\"/></a>"
      ]
    },
    {
      "cell_type": "code",
      "metadata": {
        "id": "hJ23jYt62yEF",
        "colab_type": "code",
        "colab": {
          "base_uri": "https://localhost:8080/",
          "height": 215
        },
        "outputId": "d35e9227-de9d-4b48-b59f-a91d2b173796"
      },
      "source": [
        "!pip install seaborn\n",
        "#!pip install git+https://github.com/tensorflow/docs"
      ],
      "execution_count": 29,
      "outputs": [
        {
          "output_type": "stream",
          "text": [
            "Requirement already satisfied: seaborn in /usr/local/lib/python3.6/dist-packages (0.10.1)\n",
            "Requirement already satisfied: scipy>=1.0.1 in /usr/local/lib/python3.6/dist-packages (from seaborn) (1.4.1)\n",
            "Requirement already satisfied: numpy>=1.13.3 in /usr/local/lib/python3.6/dist-packages (from seaborn) (1.18.5)\n",
            "Requirement already satisfied: pandas>=0.22.0 in /usr/local/lib/python3.6/dist-packages (from seaborn) (1.0.5)\n",
            "Requirement already satisfied: matplotlib>=2.1.2 in /usr/local/lib/python3.6/dist-packages (from seaborn) (3.2.2)\n",
            "Requirement already satisfied: python-dateutil>=2.6.1 in /usr/local/lib/python3.6/dist-packages (from pandas>=0.22.0->seaborn) (2.8.1)\n",
            "Requirement already satisfied: pytz>=2017.2 in /usr/local/lib/python3.6/dist-packages (from pandas>=0.22.0->seaborn) (2018.9)\n",
            "Requirement already satisfied: cycler>=0.10 in /usr/local/lib/python3.6/dist-packages (from matplotlib>=2.1.2->seaborn) (0.10.0)\n",
            "Requirement already satisfied: pyparsing!=2.0.4,!=2.1.2,!=2.1.6,>=2.0.1 in /usr/local/lib/python3.6/dist-packages (from matplotlib>=2.1.2->seaborn) (2.4.7)\n",
            "Requirement already satisfied: kiwisolver>=1.0.1 in /usr/local/lib/python3.6/dist-packages (from matplotlib>=2.1.2->seaborn) (1.2.0)\n",
            "Requirement already satisfied: six>=1.5 in /usr/local/lib/python3.6/dist-packages (from python-dateutil>=2.6.1->pandas>=0.22.0->seaborn) (1.15.0)\n"
          ],
          "name": "stdout"
        }
      ]
    },
    {
      "cell_type": "code",
      "metadata": {
        "id": "yhTnxKrm_mh2",
        "colab_type": "code",
        "colab": {}
      },
      "source": [
        "import pathlib\n",
        "import matplotlib.pyplot as plt\n",
        "import numpy as np\n",
        "import pandas as pd\n",
        "import seaborn as sns\n",
        "from keras.models import Sequential,Model\n",
        "from keras.layers import Dense, Dropout, Activation, Flatten, LSTM, TimeDistributed, RepeatVector,Input,BatchNormalization\n",
        "from keras.optimizers import Adam\n",
        "from keras.callbacks import EarlyStopping, ModelCheckpoint\n",
        "from keras.utils import to_categorical\n",
        "#%matplotlib inline\n",
        "\n",
        "#import tensorflow as tf\n",
        "#import tensorflow_docs as tfdocs\n",
        "#import tensorflow_docs.plots\n",
        "#import tensorflow_docs.modeling\n",
        "#from tensorflow import keras\n",
        "#from tensorflow.keras import layers\n",
        "#from scipy.ndimage import gaussian_filter1d\n",
        "#from scipy.signal import medfilt\n",
        "#print(tf.__version__) "
      ],
      "execution_count": 30,
      "outputs": []
    },
    {
      "cell_type": "code",
      "metadata": {
        "id": "QDuWZzVHJOf7",
        "colab_type": "code",
        "colab": {}
      },
      "source": [
        "nfn = \"https://raw.githubusercontent.com/jerryhuangyu/data_stock/master/2912.TW.csv\""
      ],
      "execution_count": 55,
      "outputs": []
    },
    {
      "cell_type": "code",
      "metadata": {
        "id": "n3OXL82V_w8A",
        "colab_type": "code",
        "colab": {}
      },
      "source": [
        "dataset = pd.read_csv(nfn, na_values = \"0\")\n",
        "dataset"
      ],
      "execution_count": null,
      "outputs": []
    },
    {
      "cell_type": "code",
      "metadata": {
        "id": "2SE4cQjL93o5",
        "colab_type": "code",
        "colab": {}
      },
      "source": [
        "dataset.isna().sum()"
      ],
      "execution_count": null,
      "outputs": []
    },
    {
      "cell_type": "code",
      "metadata": {
        "id": "4krZ-Qs-_5kj",
        "colab_type": "code",
        "colab": {}
      },
      "source": [
        "#drop NaN\n",
        "dataset = dataset.dropna()\n",
        "dataset"
      ],
      "execution_count": null,
      "outputs": []
    },
    {
      "cell_type": "code",
      "metadata": {
        "id": "zkTD1BCm__Q1",
        "colab_type": "code",
        "colab": {}
      },
      "source": [
        "#add predict colume to \"open_pre\"\n",
        "dataset['Close_pre'] = dataset['Close'].shift(-1)\n",
        "close_pre = dataset.pop('Close_pre')\n",
        "dataset"
      ],
      "execution_count": null,
      "outputs": []
    },
    {
      "cell_type": "code",
      "metadata": {
        "id": "-YSGD7ReADy0",
        "colab_type": "code",
        "colab": {}
      },
      "source": [
        "#normalize\n",
        "def norm(x):\n",
        "  A = x.pop('Date')\n",
        "  x = (x - dataset.min()) / (dataset.max() - dataset.min())\n",
        "  x = x.transpose()\n",
        "  x = x.append(A)\n",
        "  x = x.transpose()\n",
        "  return x\n",
        "normed_dataset = norm(dataset)\n",
        "normed_dataset"
      ],
      "execution_count": null,
      "outputs": []
    },
    {
      "cell_type": "code",
      "metadata": {
        "id": "1TLFcjax24MJ",
        "colab_type": "code",
        "colab": {}
      },
      "source": [
        "#add \"weekday\",\"year\",\"Month\" colume from \"Date\"\n",
        "normed_dataset['Date'] = pd.to_datetime(normed_dataset['Date'], format='%Y-%m-%d')\n",
        "normed_dataset['weekday'] = normed_dataset['Date'].apply(lambda x: x.day)\n",
        "normed_dataset['year'] = normed_dataset['Date'].apply(lambda x: x.year)\n",
        "normed_dataset['Month'] = normed_dataset['Date'].apply(lambda x: x.month)\n",
        "normed_dataset"
      ],
      "execution_count": null,
      "outputs": []
    },
    {
      "cell_type": "code",
      "metadata": {
        "id": "WjhLEre9AKyS",
        "colab_type": "code",
        "colab": {}
      },
      "source": [
        "normed_dataset = normed_dataset.transpose()\n",
        "normed_dataset = normed_dataset.append(close_pre)\n",
        "normed_dataset = normed_dataset.transpose()\n",
        "normed_dataset = normed_dataset.dropna()\n",
        "normed_dataset"
      ],
      "execution_count": null,
      "outputs": []
    },
    {
      "cell_type": "code",
      "metadata": {
        "id": "lKEiM7rU7zey",
        "colab_type": "code",
        "colab": {}
      },
      "source": [
        "dataset_stats = dataset.describe()\n",
        "dataset_stats = dataset_stats.transpose()\n",
        "dataset_stats"
      ],
      "execution_count": null,
      "outputs": []
    },
    {
      "cell_type": "code",
      "metadata": {
        "id": "eK7r-UOSAQr0",
        "colab_type": "code",
        "colab": {}
      },
      "source": [
        "#train & test\n",
        "test = normed_dataset[-60:]\n",
        "test = test.reset_index()\n",
        "train = normed_dataset[(normed_dataset['year']==2018)|(normed_dataset['year']==2019)|((normed_dataset['year']==2020)&(normed_dataset['Month']<=5))|((normed_dataset['year']==2020)&(normed_dataset['Month']==6)&(normed_dataset['weekday']<=21))]\n",
        "train = train.reset_index()"
      ],
      "execution_count": 64,
      "outputs": []
    },
    {
      "cell_type": "code",
      "metadata": {
        "id": "6k-tw_bw-V0i",
        "colab_type": "code",
        "colab": {}
      },
      "source": [
        "train"
      ],
      "execution_count": null,
      "outputs": []
    },
    {
      "cell_type": "code",
      "metadata": {
        "id": "uTm1gVZz8dch",
        "colab_type": "code",
        "colab": {}
      },
      "source": [
        "sns.pairplot(train[[\"Close_pre\",\"Open\",\"High\",\"Low\",\"Close\",\"Adj Close\",\"Volume\",\"weekday\",\"Month\"]], diag_kind=\"kde\")"
      ],
      "execution_count": null,
      "outputs": []
    },
    {
      "cell_type": "code",
      "metadata": {
        "id": "oMkoXI9IAY9T",
        "colab_type": "code",
        "colab": {}
      },
      "source": [
        "#Keep the feature u want\n",
        "train.drop(['Date','year',\"index\",'Month','weekday','Adj Close'], axis=1, inplace=True)  #'Volume'\n",
        "test.drop(['Date','year',\"index\",'Month','weekday','Adj Close',], axis=1, inplace=True)  #'Volume'"
      ],
      "execution_count": 66,
      "outputs": []
    },
    {
      "cell_type": "code",
      "metadata": {
        "id": "zFqrVYme26yO",
        "colab_type": "code",
        "colab": {}
      },
      "source": [
        "#Split features from labels\n",
        "def train_windows(df, ref_day=5, predict_day=1):\n",
        "    feature, solution = [], []\n",
        "    for i in range(df.shape[0]-predict_day-ref_day):\n",
        "        feature.append(np.array(df.iloc[i:i+ref_day,:-1]))\n",
        "        solution.append(np.array(df.iloc[i+ref_day:i+ref_day+predict_day][\"Close_pre\"]))\n",
        "    return np.array(feature), np.array(solution)"
      ],
      "execution_count": 67,
      "outputs": []
    },
    {
      "cell_type": "code",
      "metadata": {
        "id": "xbvPYv8yAkwL",
        "colab_type": "code",
        "colab": {}
      },
      "source": [
        "feature_train, solution_train = train_windows(train, 5, 1)\n",
        "feature_test, solution_test = train_windows(test, 5, 1)"
      ],
      "execution_count": 68,
      "outputs": []
    },
    {
      "cell_type": "code",
      "metadata": {
        "id": "Yv8MtLzHYTVY",
        "colab_type": "code",
        "colab": {}
      },
      "source": [
        "solution_train"
      ],
      "execution_count": null,
      "outputs": []
    },
    {
      "cell_type": "code",
      "metadata": {
        "id": "cRQpSbabYSOa",
        "colab_type": "code",
        "colab": {}
      },
      "source": [
        "solution_test"
      ],
      "execution_count": null,
      "outputs": []
    },
    {
      "cell_type": "code",
      "metadata": {
        "id": "qQFS6KOi4_dV",
        "colab_type": "code",
        "colab": {}
      },
      "source": [
        "feature_train"
      ],
      "execution_count": null,
      "outputs": []
    },
    {
      "cell_type": "code",
      "metadata": {
        "id": "bfNQ1P6T2-lj",
        "colab_type": "code",
        "colab": {}
      },
      "source": [
        "cell_layer1=256\n",
        "cell_layer2=256\n",
        "cell_layer3=256\n",
        "\n",
        "def lstm_stock_model(shape):\n",
        "  model = Sequential()\n",
        "  model.add(LSTM(cell_layer1, activation='tanh', input_shape=(shape[1], shape[2]), return_sequences=True))\n",
        "  model.add(BatchNormalization())\n",
        "  model.add(LSTM(cell_layer2, activation='tanh', return_sequences=True))\n",
        "  model.add(BatchNormalization())\n",
        "  model.add(LSTM(cell_layer3))\n",
        "#  model.add(BatchNormalization())\n",
        "#  model.add(TimeDistributed(Dense(1)))\n",
        "#  model.add(Flatten())\n",
        "\n",
        "  model.add(Dense(5,activation='linear'))\n",
        "  model.add(Dense(1,activation='linear'))\n",
        "\n",
        "#  Optimizer = keras.optimizers.RMSprop(0.001)\n",
        "#  Optimizer1 = keras.optimizers.SGD(learning_rate=0.001, momentum=0.9)\n",
        "#  Optimizer2 = keras.optimizers.Adam(learning_rate=0.001)\n",
        "\n",
        "  model.compile(loss='mse', optimizer='adam', metrics=['mae','mse'])\n",
        "  return model"
      ],
      "execution_count": 87,
      "outputs": []
    },
    {
      "cell_type": "code",
      "metadata": {
        "id": "ZDrfhDRsA64T",
        "colab_type": "code",
        "colab": {}
      },
      "source": [
        "model = lstm_stock_model(feature_train.shape)\n",
        "model.summary()"
      ],
      "execution_count": null,
      "outputs": []
    },
    {
      "cell_type": "code",
      "metadata": {
        "id": "Gg41c5OX9GG4",
        "colab_type": "code",
        "colab": {
          "base_uri": "https://localhost:8080/",
          "height": 35
        },
        "outputId": "0dd6e27a-5b83-439d-82c5-8c2713bf1b3c"
      },
      "source": [
        "feature_train.shape"
      ],
      "execution_count": 89,
      "outputs": [
        {
          "output_type": "execute_result",
          "data": {
            "text/plain": [
              "(591, 5, 5)"
            ]
          },
          "metadata": {
            "tags": []
          },
          "execution_count": 89
        }
      ]
    },
    {
      "cell_type": "code",
      "metadata": {
        "id": "fjHXXfQDUu9L",
        "colab_type": "code",
        "colab": {
          "base_uri": "https://localhost:8080/",
          "height": 35
        },
        "outputId": "bf91505b-ed60-4c39-fb92-d85c0e3d9d79"
      },
      "source": [
        "type(feature_train)"
      ],
      "execution_count": 25,
      "outputs": [
        {
          "output_type": "execute_result",
          "data": {
            "text/plain": [
              "numpy.ndarray"
            ]
          },
          "metadata": {
            "tags": []
          },
          "execution_count": 25
        }
      ]
    },
    {
      "cell_type": "code",
      "metadata": {
        "id": "NBp7K-qZ-2m7",
        "colab_type": "code",
        "colab": {}
      },
      "source": [
        "#類型轉換才能輸入於fit()\n",
        "#from keras import backend as K\n",
        "#feature_train = K.cast_to_floatx(feature_train)\n",
        "#solution_train = K.cast_to_floatx(solution_train)"
      ],
      "execution_count": 26,
      "outputs": []
    },
    {
      "cell_type": "code",
      "metadata": {
        "id": "1BDStNM7U0on",
        "colab_type": "code",
        "colab": {
          "base_uri": "https://localhost:8080/",
          "height": 35
        },
        "outputId": "8676c0d7-665e-4e2a-db4f-9bdd46864874"
      },
      "source": [
        "type(feature_train)"
      ],
      "execution_count": 27,
      "outputs": [
        {
          "output_type": "execute_result",
          "data": {
            "text/plain": [
              "numpy.ndarray"
            ]
          },
          "metadata": {
            "tags": []
          },
          "execution_count": 27
        }
      ]
    },
    {
      "cell_type": "code",
      "metadata": {
        "id": "Avbkgz2q8T9D",
        "colab_type": "code",
        "colab": {
          "base_uri": "https://localhost:8080/",
          "height": 1000
        },
        "outputId": "96c44fa8-ab2d-4115-a5be-cfb5d889ae49"
      },
      "source": [
        "#fit model\n",
        "EPOCHS = 2000\n",
        "Batch_size = 32\n",
        "#Batch_size=eval(input('The batch_size (default= 32):')or '32')\n",
        "#EPOCHS=eval(input('Epochs (default 1000):')or '1000')\n",
        "\n",
        "callback = EarlyStopping(monitor=\"mse\", patience=30, verbose=1, mode=\"auto\") #[tfdocs.modeling.EpochDots()]\n",
        "\n",
        "history = model.fit(feature_train, solution_train, batch_size=Batch_size, epochs=EPOCHS, validation_split=0.1, verbose=1, callbacks=[callback],shuffle=True)\n",
        "                    #[callback],shuffle=True)"
      ],
      "execution_count": 90,
      "outputs": [
        {
          "output_type": "stream",
          "text": [
            "Train on 531 samples, validate on 60 samples\n",
            "Epoch 1/2000\n",
            "531/531 [==============================] - 2s 5ms/step - loss: 83846.6696 - mae: 288.8036 - mse: 83846.6562 - val_loss: 87272.7135 - val_mae: 295.3026 - val_mse: 87272.7188\n",
            "Epoch 2/2000\n",
            "531/531 [==============================] - 1s 2ms/step - loss: 69457.9471 - mae: 262.8772 - mse: 69457.9531 - val_loss: 88730.1766 - val_mae: 297.7610 - val_mse: 88730.1719\n",
            "Epoch 3/2000\n",
            "531/531 [==============================] - 1s 2ms/step - loss: 60176.7044 - mae: 244.5743 - mse: 60176.7031 - val_loss: 89546.5969 - val_mae: 299.1306 - val_mse: 89546.6016\n",
            "Epoch 4/2000\n",
            "531/531 [==============================] - 1s 2ms/step - loss: 51446.5374 - mae: 226.0140 - mse: 51446.5352 - val_loss: 89674.7786 - val_mae: 299.3488 - val_mse: 89674.7812\n",
            "Epoch 5/2000\n",
            "531/531 [==============================] - 1s 2ms/step - loss: 43206.7253 - mae: 206.9802 - mse: 43206.7266 - val_loss: 89516.4557 - val_mae: 299.0893 - val_mse: 89516.4531\n",
            "Epoch 6/2000\n",
            "531/531 [==============================] - 1s 2ms/step - loss: 35586.5192 - mae: 187.6895 - mse: 35586.5156 - val_loss: 88749.5005 - val_mae: 297.8086 - val_mse: 88749.5000\n",
            "Epoch 7/2000\n",
            "531/531 [==============================] - 1s 2ms/step - loss: 28705.2941 - mae: 168.3323 - mse: 28705.2930 - val_loss: 86557.4609 - val_mae: 294.1107 - val_mse: 86557.4688\n",
            "Epoch 8/2000\n",
            "531/531 [==============================] - 1s 2ms/step - loss: 22623.9549 - mae: 149.2522 - mse: 22623.9531 - val_loss: 82770.4865 - val_mae: 287.6047 - val_mse: 82770.4844\n",
            "Epoch 9/2000\n",
            "531/531 [==============================] - 1s 2ms/step - loss: 17385.6783 - mae: 130.4978 - mse: 17385.6758 - val_loss: 76931.5927 - val_mae: 277.2671 - val_mse: 76931.5938\n",
            "Epoch 10/2000\n",
            "531/531 [==============================] - 1s 2ms/step - loss: 12973.9302 - mae: 112.4148 - mse: 12973.9297 - val_loss: 66857.7760 - val_mae: 258.4479 - val_mse: 66857.7734\n",
            "Epoch 11/2000\n",
            "531/531 [==============================] - 1s 2ms/step - loss: 9429.2377 - mae: 95.2644 - mse: 9429.2383 - val_loss: 51801.1591 - val_mae: 227.3668 - val_mse: 51801.1602\n",
            "Epoch 12/2000\n",
            "531/531 [==============================] - 1s 2ms/step - loss: 6625.8533 - mae: 79.2654 - mse: 6625.8530 - val_loss: 31624.1339 - val_mae: 177.1660 - val_mse: 31624.1328\n",
            "Epoch 13/2000\n",
            "531/531 [==============================] - 1s 2ms/step - loss: 4540.3423 - mae: 64.7231 - mse: 4540.3428 - val_loss: 12809.0434 - val_mae: 111.6135 - val_mse: 12809.0439\n",
            "Epoch 14/2000\n",
            "531/531 [==============================] - 1s 2ms/step - loss: 3031.5526 - mae: 51.9058 - mse: 3031.5527 - val_loss: 3204.9656 - val_mae: 54.3324 - val_mse: 3204.9656\n",
            "Epoch 15/2000\n",
            "531/531 [==============================] - 1s 2ms/step - loss: 2003.9786 - mae: 40.8273 - mse: 2003.9786 - val_loss: 812.0946 - val_mae: 26.8395 - val_mse: 812.0946\n",
            "Epoch 16/2000\n",
            "531/531 [==============================] - 1s 2ms/step - loss: 1324.7032 - mae: 31.6056 - mse: 1324.7032 - val_loss: 313.0698 - val_mae: 15.8677 - val_mse: 313.0698\n",
            "Epoch 17/2000\n",
            "531/531 [==============================] - 1s 2ms/step - loss: 901.0285 - mae: 24.2604 - mse: 901.0286 - val_loss: 131.5510 - val_mae: 9.9269 - val_mse: 131.5510\n",
            "Epoch 18/2000\n",
            "531/531 [==============================] - 1s 2ms/step - loss: 641.3533 - mae: 19.0746 - mse: 641.3533 - val_loss: 74.4627 - val_mae: 7.5745 - val_mse: 74.4627\n",
            "Epoch 19/2000\n",
            "531/531 [==============================] - 1s 2ms/step - loss: 495.1613 - mae: 15.9909 - mse: 495.1613 - val_loss: 74.2221 - val_mae: 6.7101 - val_mse: 74.2221\n",
            "Epoch 20/2000\n",
            "531/531 [==============================] - 1s 2ms/step - loss: 414.2832 - mae: 14.4342 - mse: 414.2833 - val_loss: 99.3565 - val_mae: 7.3031 - val_mse: 99.3565\n",
            "Epoch 21/2000\n",
            "531/531 [==============================] - 1s 2ms/step - loss: 370.7001 - mae: 13.6827 - mse: 370.7001 - val_loss: 131.6466 - val_mae: 8.7246 - val_mse: 131.6466\n",
            "Epoch 22/2000\n",
            "531/531 [==============================] - 1s 2ms/step - loss: 348.6495 - mae: 13.3728 - mse: 348.6495 - val_loss: 161.1143 - val_mae: 9.9522 - val_mse: 161.1143\n",
            "Epoch 23/2000\n",
            "531/531 [==============================] - 1s 2ms/step - loss: 338.9884 - mae: 13.3946 - mse: 338.9885 - val_loss: 186.9689 - val_mae: 11.0194 - val_mse: 186.9689\n",
            "Epoch 24/2000\n",
            "531/531 [==============================] - 1s 2ms/step - loss: 333.3581 - mae: 13.4323 - mse: 333.3581 - val_loss: 204.4831 - val_mae: 11.7489 - val_mse: 204.4831\n",
            "Epoch 25/2000\n",
            "531/531 [==============================] - 1s 2ms/step - loss: 331.2764 - mae: 13.5136 - mse: 331.2764 - val_loss: 216.8008 - val_mae: 12.2412 - val_mse: 216.8008\n",
            "Epoch 26/2000\n",
            "531/531 [==============================] - 1s 2ms/step - loss: 329.9688 - mae: 13.5653 - mse: 329.9688 - val_loss: 185.1972 - val_mae: 10.9973 - val_mse: 185.1972\n",
            "Epoch 27/2000\n",
            "531/531 [==============================] - 1s 2ms/step - loss: 329.9352 - mae: 13.2129 - mse: 329.9352 - val_loss: 111.2758 - val_mae: 8.2605 - val_mse: 111.2758\n",
            "Epoch 28/2000\n",
            "531/531 [==============================] - 1s 2ms/step - loss: 284.5832 - mae: 11.6888 - mse: 284.5832 - val_loss: 113.2160 - val_mae: 8.9923 - val_mse: 113.2160\n",
            "Epoch 29/2000\n",
            "531/531 [==============================] - 1s 2ms/step - loss: 260.3194 - mae: 11.1105 - mse: 260.3194 - val_loss: 44.2341 - val_mae: 4.9140 - val_mse: 44.2341\n",
            "Epoch 30/2000\n",
            "531/531 [==============================] - 1s 2ms/step - loss: 223.7600 - mae: 9.8863 - mse: 223.7600 - val_loss: 64.8646 - val_mae: 7.1342 - val_mse: 64.8646\n",
            "Epoch 31/2000\n",
            "531/531 [==============================] - 1s 2ms/step - loss: 210.6793 - mae: 9.7723 - mse: 210.6793 - val_loss: 40.0169 - val_mae: 4.7913 - val_mse: 40.0169\n",
            "Epoch 32/2000\n",
            "531/531 [==============================] - 1s 2ms/step - loss: 190.7068 - mae: 9.3556 - mse: 190.7068 - val_loss: 66.9586 - val_mae: 6.6101 - val_mse: 66.9586\n",
            "Epoch 33/2000\n",
            "531/531 [==============================] - 1s 2ms/step - loss: 175.0949 - mae: 8.9109 - mse: 175.0950 - val_loss: 67.6922 - val_mae: 6.8132 - val_mse: 67.6922\n",
            "Epoch 34/2000\n",
            "531/531 [==============================] - 1s 2ms/step - loss: 160.9505 - mae: 8.5125 - mse: 160.9505 - val_loss: 56.7284 - val_mae: 6.2882 - val_mse: 56.7284\n",
            "Epoch 35/2000\n",
            "531/531 [==============================] - 1s 2ms/step - loss: 153.6498 - mae: 8.3472 - mse: 153.6498 - val_loss: 69.7850 - val_mae: 7.2555 - val_mse: 69.7850\n",
            "Epoch 36/2000\n",
            "531/531 [==============================] - 1s 2ms/step - loss: 144.9536 - mae: 8.4525 - mse: 144.9536 - val_loss: 167.8771 - val_mae: 11.4712 - val_mse: 167.8770\n",
            "Epoch 37/2000\n",
            "531/531 [==============================] - 1s 2ms/step - loss: 132.3166 - mae: 7.9181 - mse: 132.3166 - val_loss: 90.1521 - val_mae: 8.3780 - val_mse: 90.1521\n",
            "Epoch 38/2000\n",
            "531/531 [==============================] - 1s 2ms/step - loss: 121.8878 - mae: 7.5012 - mse: 121.8878 - val_loss: 124.9016 - val_mae: 9.8020 - val_mse: 124.9016\n",
            "Epoch 39/2000\n",
            "531/531 [==============================] - 1s 2ms/step - loss: 122.1985 - mae: 7.8257 - mse: 122.1985 - val_loss: 139.2736 - val_mae: 10.2057 - val_mse: 139.2736\n",
            "Epoch 40/2000\n",
            "531/531 [==============================] - 1s 2ms/step - loss: 113.5622 - mae: 7.5891 - mse: 113.5622 - val_loss: 71.9547 - val_mae: 7.6286 - val_mse: 71.9547\n",
            "Epoch 41/2000\n",
            "531/531 [==============================] - 1s 2ms/step - loss: 99.9421 - mae: 6.8138 - mse: 99.9421 - val_loss: 80.2708 - val_mae: 7.8036 - val_mse: 80.2708\n",
            "Epoch 42/2000\n",
            "531/531 [==============================] - 1s 2ms/step - loss: 98.1189 - mae: 6.8972 - mse: 98.1189 - val_loss: 46.9960 - val_mae: 5.3919 - val_mse: 46.9960\n",
            "Epoch 43/2000\n",
            "531/531 [==============================] - 1s 2ms/step - loss: 98.7001 - mae: 7.1277 - mse: 98.7001 - val_loss: 60.5214 - val_mae: 7.0711 - val_mse: 60.5214\n",
            "Epoch 44/2000\n",
            "531/531 [==============================] - 1s 2ms/step - loss: 95.5076 - mae: 7.0385 - mse: 95.5076 - val_loss: 74.3119 - val_mae: 6.6409 - val_mse: 74.3119\n",
            "Epoch 45/2000\n",
            "531/531 [==============================] - 1s 2ms/step - loss: 83.9313 - mae: 6.3825 - mse: 83.9314 - val_loss: 31.5575 - val_mae: 4.5486 - val_mse: 31.5575\n",
            "Epoch 46/2000\n",
            "531/531 [==============================] - 1s 2ms/step - loss: 82.9188 - mae: 6.5084 - mse: 82.9188 - val_loss: 37.6820 - val_mae: 5.2265 - val_mse: 37.6820\n",
            "Epoch 47/2000\n",
            "531/531 [==============================] - 1s 2ms/step - loss: 87.3189 - mae: 6.8013 - mse: 87.3189 - val_loss: 96.9377 - val_mae: 7.7669 - val_mse: 96.9377\n",
            "Epoch 48/2000\n",
            "531/531 [==============================] - 1s 2ms/step - loss: 74.8737 - mae: 6.1114 - mse: 74.8737 - val_loss: 82.8434 - val_mae: 8.2834 - val_mse: 82.8434\n",
            "Epoch 49/2000\n",
            "531/531 [==============================] - 1s 2ms/step - loss: 76.7991 - mae: 6.4169 - mse: 76.7991 - val_loss: 68.5015 - val_mae: 7.5826 - val_mse: 68.5015\n",
            "Epoch 50/2000\n",
            "531/531 [==============================] - 1s 2ms/step - loss: 89.8872 - mae: 6.7964 - mse: 89.8872 - val_loss: 55.5491 - val_mae: 6.5062 - val_mse: 55.5491\n",
            "Epoch 51/2000\n",
            "531/531 [==============================] - 1s 2ms/step - loss: 95.6796 - mae: 7.4919 - mse: 95.6796 - val_loss: 90.6016 - val_mae: 7.0646 - val_mse: 90.6016\n",
            "Epoch 52/2000\n",
            "531/531 [==============================] - 1s 2ms/step - loss: 90.7296 - mae: 7.1415 - mse: 90.7296 - val_loss: 82.2645 - val_mae: 7.8310 - val_mse: 82.2645\n",
            "Epoch 53/2000\n",
            "531/531 [==============================] - 1s 2ms/step - loss: 77.3179 - mae: 6.3877 - mse: 77.3179 - val_loss: 78.1263 - val_mae: 6.8237 - val_mse: 78.1263\n",
            "Epoch 54/2000\n",
            "531/531 [==============================] - 1s 2ms/step - loss: 82.6047 - mae: 6.8091 - mse: 82.6047 - val_loss: 92.5235 - val_mae: 7.0852 - val_mse: 92.5236\n",
            "Epoch 55/2000\n",
            "531/531 [==============================] - 1s 2ms/step - loss: 62.4406 - mae: 5.6904 - mse: 62.4406 - val_loss: 103.4169 - val_mae: 7.5369 - val_mse: 103.4169\n",
            "Epoch 56/2000\n",
            "531/531 [==============================] - 1s 2ms/step - loss: 67.5494 - mae: 6.0127 - mse: 67.5493 - val_loss: 91.4215 - val_mae: 7.2285 - val_mse: 91.4215\n",
            "Epoch 57/2000\n",
            "531/531 [==============================] - 1s 2ms/step - loss: 62.3943 - mae: 5.9343 - mse: 62.3943 - val_loss: 68.7852 - val_mae: 6.3062 - val_mse: 68.7852\n",
            "Epoch 58/2000\n",
            "531/531 [==============================] - 1s 2ms/step - loss: 59.9945 - mae: 5.5405 - mse: 59.9945 - val_loss: 85.6332 - val_mae: 7.1239 - val_mse: 85.6332\n",
            "Epoch 59/2000\n",
            "531/531 [==============================] - 1s 2ms/step - loss: 67.4621 - mae: 6.1550 - mse: 67.4621 - val_loss: 31.8043 - val_mae: 4.6859 - val_mse: 31.8043\n",
            "Epoch 60/2000\n",
            "531/531 [==============================] - 1s 2ms/step - loss: 55.1606 - mae: 5.3912 - mse: 55.1606 - val_loss: 47.7242 - val_mae: 6.2082 - val_mse: 47.7242\n",
            "Epoch 61/2000\n",
            "531/531 [==============================] - 1s 2ms/step - loss: 64.7560 - mae: 6.0524 - mse: 64.7560 - val_loss: 65.4825 - val_mae: 6.3204 - val_mse: 65.4825\n",
            "Epoch 62/2000\n",
            "531/531 [==============================] - 1s 2ms/step - loss: 54.3852 - mae: 5.3397 - mse: 54.3852 - val_loss: 45.7235 - val_mae: 5.9179 - val_mse: 45.7235\n",
            "Epoch 63/2000\n",
            "531/531 [==============================] - 1s 2ms/step - loss: 57.8682 - mae: 5.6359 - mse: 57.8682 - val_loss: 57.1261 - val_mae: 6.6200 - val_mse: 57.1261\n",
            "Epoch 64/2000\n",
            "531/531 [==============================] - 1s 2ms/step - loss: 63.2980 - mae: 6.0472 - mse: 63.2980 - val_loss: 35.3883 - val_mae: 4.8668 - val_mse: 35.3883\n",
            "Epoch 65/2000\n",
            "531/531 [==============================] - 1s 2ms/step - loss: 60.8905 - mae: 6.0147 - mse: 60.8905 - val_loss: 39.3484 - val_mae: 4.8084 - val_mse: 39.3484\n",
            "Epoch 66/2000\n",
            "531/531 [==============================] - 1s 2ms/step - loss: 52.6052 - mae: 5.4331 - mse: 52.6052 - val_loss: 54.8162 - val_mae: 5.6623 - val_mse: 54.8162\n",
            "Epoch 67/2000\n",
            "531/531 [==============================] - 1s 2ms/step - loss: 51.9351 - mae: 5.3167 - mse: 51.9351 - val_loss: 130.9826 - val_mae: 10.2983 - val_mse: 130.9826\n",
            "Epoch 68/2000\n",
            "531/531 [==============================] - 1s 2ms/step - loss: 54.0939 - mae: 5.5577 - mse: 54.0939 - val_loss: 128.1133 - val_mae: 9.9360 - val_mse: 128.1133\n",
            "Epoch 69/2000\n",
            "531/531 [==============================] - 1s 2ms/step - loss: 51.0512 - mae: 5.5216 - mse: 51.0512 - val_loss: 29.3454 - val_mae: 3.8607 - val_mse: 29.3454\n",
            "Epoch 70/2000\n",
            "531/531 [==============================] - 1s 2ms/step - loss: 54.7139 - mae: 5.6845 - mse: 54.7139 - val_loss: 23.8026 - val_mae: 4.0545 - val_mse: 23.8026\n",
            "Epoch 71/2000\n",
            "531/531 [==============================] - 1s 2ms/step - loss: 45.9019 - mae: 4.9462 - mse: 45.9019 - val_loss: 31.3064 - val_mae: 4.4824 - val_mse: 31.3064\n",
            "Epoch 72/2000\n",
            "531/531 [==============================] - 1s 2ms/step - loss: 43.8170 - mae: 5.0129 - mse: 43.8170 - val_loss: 37.8220 - val_mae: 4.7074 - val_mse: 37.8220\n",
            "Epoch 73/2000\n",
            "531/531 [==============================] - 1s 2ms/step - loss: 47.1674 - mae: 5.2389 - mse: 47.1674 - val_loss: 53.3182 - val_mae: 6.5539 - val_mse: 53.3182\n",
            "Epoch 74/2000\n",
            "531/531 [==============================] - 1s 2ms/step - loss: 45.6095 - mae: 5.0882 - mse: 45.6095 - val_loss: 42.9852 - val_mae: 5.1954 - val_mse: 42.9852\n",
            "Epoch 75/2000\n",
            "531/531 [==============================] - 1s 2ms/step - loss: 57.4529 - mae: 5.8261 - mse: 57.4529 - val_loss: 25.3860 - val_mae: 3.9799 - val_mse: 25.3860\n",
            "Epoch 76/2000\n",
            "531/531 [==============================] - 1s 2ms/step - loss: 45.2309 - mae: 5.1268 - mse: 45.2309 - val_loss: 222.5297 - val_mae: 11.9341 - val_mse: 222.5297\n",
            "Epoch 77/2000\n",
            "531/531 [==============================] - 1s 2ms/step - loss: 42.8776 - mae: 4.8550 - mse: 42.8776 - val_loss: 24.2891 - val_mae: 4.0282 - val_mse: 24.2891\n",
            "Epoch 78/2000\n",
            "531/531 [==============================] - 1s 2ms/step - loss: 50.3371 - mae: 5.3450 - mse: 50.3370 - val_loss: 21.1359 - val_mae: 3.3320 - val_mse: 21.1359\n",
            "Epoch 79/2000\n",
            "531/531 [==============================] - 1s 2ms/step - loss: 41.2546 - mae: 4.7553 - mse: 41.2546 - val_loss: 16.9418 - val_mae: 3.1536 - val_mse: 16.9418\n",
            "Epoch 80/2000\n",
            "531/531 [==============================] - 1s 2ms/step - loss: 47.1121 - mae: 5.1124 - mse: 47.1121 - val_loss: 32.5633 - val_mae: 4.8749 - val_mse: 32.5633\n",
            "Epoch 81/2000\n",
            "531/531 [==============================] - 1s 2ms/step - loss: 44.0511 - mae: 4.9170 - mse: 44.0511 - val_loss: 220.3048 - val_mae: 9.5908 - val_mse: 220.3048\n",
            "Epoch 82/2000\n",
            "531/531 [==============================] - 1s 2ms/step - loss: 46.4448 - mae: 5.0770 - mse: 46.4447 - val_loss: 47.7942 - val_mae: 5.3004 - val_mse: 47.7942\n",
            "Epoch 83/2000\n",
            "531/531 [==============================] - 1s 2ms/step - loss: 38.6492 - mae: 4.6543 - mse: 38.6492 - val_loss: 73.4626 - val_mae: 6.7792 - val_mse: 73.4626\n",
            "Epoch 84/2000\n",
            "531/531 [==============================] - 1s 2ms/step - loss: 44.2697 - mae: 5.0327 - mse: 44.2697 - val_loss: 76.8910 - val_mae: 5.3995 - val_mse: 76.8910\n",
            "Epoch 85/2000\n",
            "531/531 [==============================] - 1s 2ms/step - loss: 44.8887 - mae: 4.8213 - mse: 44.8887 - val_loss: 244.8212 - val_mae: 14.5408 - val_mse: 244.8212\n",
            "Epoch 86/2000\n",
            "531/531 [==============================] - 1s 2ms/step - loss: 48.7890 - mae: 5.2288 - mse: 48.7890 - val_loss: 18.7224 - val_mae: 3.1055 - val_mse: 18.7224\n",
            "Epoch 87/2000\n",
            "531/531 [==============================] - 1s 2ms/step - loss: 46.7074 - mae: 5.1864 - mse: 46.7074 - val_loss: 43.2063 - val_mae: 5.3151 - val_mse: 43.2063\n",
            "Epoch 88/2000\n",
            "531/531 [==============================] - 1s 2ms/step - loss: 40.6857 - mae: 4.5516 - mse: 40.6857 - val_loss: 32.6072 - val_mae: 4.4837 - val_mse: 32.6072\n",
            "Epoch 89/2000\n",
            "531/531 [==============================] - 1s 2ms/step - loss: 42.4218 - mae: 4.8811 - mse: 42.4218 - val_loss: 51.8730 - val_mae: 5.1436 - val_mse: 51.8730\n",
            "Epoch 90/2000\n",
            "531/531 [==============================] - 1s 2ms/step - loss: 49.7710 - mae: 5.4896 - mse: 49.7710 - val_loss: 26.4104 - val_mae: 4.2315 - val_mse: 26.4104\n",
            "Epoch 91/2000\n",
            "531/531 [==============================] - 1s 2ms/step - loss: 44.5571 - mae: 4.9871 - mse: 44.5571 - val_loss: 49.2814 - val_mae: 5.0836 - val_mse: 49.2814\n",
            "Epoch 92/2000\n",
            "531/531 [==============================] - 1s 2ms/step - loss: 38.6762 - mae: 4.7564 - mse: 38.6762 - val_loss: 37.5606 - val_mae: 4.1154 - val_mse: 37.5606\n",
            "Epoch 93/2000\n",
            "531/531 [==============================] - 1s 2ms/step - loss: 40.4731 - mae: 4.7944 - mse: 40.4730 - val_loss: 32.2472 - val_mae: 4.6041 - val_mse: 32.2472\n",
            "Epoch 94/2000\n",
            "531/531 [==============================] - 1s 2ms/step - loss: 43.4891 - mae: 4.9501 - mse: 43.4891 - val_loss: 36.8303 - val_mae: 5.4062 - val_mse: 36.8303\n",
            "Epoch 95/2000\n",
            "531/531 [==============================] - 1s 2ms/step - loss: 40.9943 - mae: 4.9356 - mse: 40.9943 - val_loss: 37.7474 - val_mae: 5.4692 - val_mse: 37.7474\n",
            "Epoch 96/2000\n",
            "531/531 [==============================] - 1s 2ms/step - loss: 40.5837 - mae: 4.8414 - mse: 40.5837 - val_loss: 50.6118 - val_mae: 5.6500 - val_mse: 50.6118\n",
            "Epoch 97/2000\n",
            "531/531 [==============================] - 1s 2ms/step - loss: 37.1229 - mae: 4.5315 - mse: 37.1229 - val_loss: 59.4765 - val_mae: 5.2278 - val_mse: 59.4765\n",
            "Epoch 98/2000\n",
            "531/531 [==============================] - 1s 2ms/step - loss: 42.6027 - mae: 4.9112 - mse: 42.6027 - val_loss: 26.3268 - val_mae: 3.7338 - val_mse: 26.3267\n",
            "Epoch 99/2000\n",
            "531/531 [==============================] - 1s 2ms/step - loss: 37.2432 - mae: 4.6377 - mse: 37.2432 - val_loss: 31.0917 - val_mae: 4.4877 - val_mse: 31.0917\n",
            "Epoch 100/2000\n",
            "531/531 [==============================] - 1s 2ms/step - loss: 34.9864 - mae: 4.5158 - mse: 34.9864 - val_loss: 32.9555 - val_mae: 4.5944 - val_mse: 32.9555\n",
            "Epoch 101/2000\n",
            "531/531 [==============================] - 1s 2ms/step - loss: 37.7935 - mae: 4.6518 - mse: 37.7935 - val_loss: 34.7196 - val_mae: 4.1604 - val_mse: 34.7196\n",
            "Epoch 102/2000\n",
            "531/531 [==============================] - 1s 2ms/step - loss: 35.9938 - mae: 4.4266 - mse: 35.9938 - val_loss: 31.4438 - val_mae: 3.6690 - val_mse: 31.4438\n",
            "Epoch 103/2000\n",
            "531/531 [==============================] - 1s 2ms/step - loss: 39.4785 - mae: 4.6468 - mse: 39.4785 - val_loss: 43.2068 - val_mae: 4.6303 - val_mse: 43.2068\n",
            "Epoch 104/2000\n",
            "531/531 [==============================] - 1s 2ms/step - loss: 38.5058 - mae: 4.6550 - mse: 38.5058 - val_loss: 26.9781 - val_mae: 4.0670 - val_mse: 26.9781\n",
            "Epoch 105/2000\n",
            "531/531 [==============================] - 1s 2ms/step - loss: 37.2532 - mae: 4.5709 - mse: 37.2532 - val_loss: 95.6838 - val_mae: 7.8788 - val_mse: 95.6837\n",
            "Epoch 106/2000\n",
            "531/531 [==============================] - 1s 2ms/step - loss: 36.4351 - mae: 4.5389 - mse: 36.4351 - val_loss: 19.4527 - val_mae: 3.5247 - val_mse: 19.4527\n",
            "Epoch 107/2000\n",
            "531/531 [==============================] - 1s 2ms/step - loss: 39.7387 - mae: 4.7715 - mse: 39.7387 - val_loss: 60.8342 - val_mae: 5.3110 - val_mse: 60.8342\n",
            "Epoch 108/2000\n",
            "531/531 [==============================] - 1s 2ms/step - loss: 34.9103 - mae: 4.4282 - mse: 34.9103 - val_loss: 34.2091 - val_mae: 4.4318 - val_mse: 34.2091\n",
            "Epoch 109/2000\n",
            "531/531 [==============================] - 1s 2ms/step - loss: 32.9478 - mae: 4.2142 - mse: 32.9478 - val_loss: 84.0434 - val_mae: 6.6442 - val_mse: 84.0434\n",
            "Epoch 110/2000\n",
            "531/531 [==============================] - 1s 2ms/step - loss: 35.4842 - mae: 4.4533 - mse: 35.4842 - val_loss: 63.0761 - val_mae: 4.8587 - val_mse: 63.0761\n",
            "Epoch 111/2000\n",
            "531/531 [==============================] - 1s 2ms/step - loss: 38.6661 - mae: 4.6300 - mse: 38.6661 - val_loss: 28.6565 - val_mae: 3.6473 - val_mse: 28.6565\n",
            "Epoch 112/2000\n",
            "531/531 [==============================] - 1s 2ms/step - loss: 33.7774 - mae: 4.3545 - mse: 33.7774 - val_loss: 58.8740 - val_mae: 5.1650 - val_mse: 58.8740\n",
            "Epoch 113/2000\n",
            "531/531 [==============================] - 1s 2ms/step - loss: 41.0203 - mae: 4.8243 - mse: 41.0203 - val_loss: 26.2760 - val_mae: 3.5225 - val_mse: 26.2760\n",
            "Epoch 114/2000\n",
            "531/531 [==============================] - 1s 2ms/step - loss: 35.5987 - mae: 4.4146 - mse: 35.5987 - val_loss: 105.2084 - val_mae: 9.4179 - val_mse: 105.2084\n",
            "Epoch 115/2000\n",
            "531/531 [==============================] - 1s 2ms/step - loss: 37.0251 - mae: 4.4760 - mse: 37.0251 - val_loss: 145.1416 - val_mae: 7.6957 - val_mse: 145.1416\n",
            "Epoch 116/2000\n",
            "531/531 [==============================] - 1s 2ms/step - loss: 36.1852 - mae: 4.5132 - mse: 36.1852 - val_loss: 47.2141 - val_mae: 4.3684 - val_mse: 47.2141\n",
            "Epoch 117/2000\n",
            "531/531 [==============================] - 1s 2ms/step - loss: 35.0783 - mae: 4.3801 - mse: 35.0783 - val_loss: 93.7793 - val_mae: 6.9590 - val_mse: 93.7793\n",
            "Epoch 118/2000\n",
            "531/531 [==============================] - 1s 2ms/step - loss: 35.9596 - mae: 4.6386 - mse: 35.9596 - val_loss: 23.5523 - val_mae: 4.1566 - val_mse: 23.5523\n",
            "Epoch 119/2000\n",
            "531/531 [==============================] - 1s 2ms/step - loss: 35.5198 - mae: 4.4166 - mse: 35.5198 - val_loss: 54.1856 - val_mae: 6.2294 - val_mse: 54.1856\n",
            "Epoch 120/2000\n",
            "531/531 [==============================] - 1s 2ms/step - loss: 38.3200 - mae: 4.6827 - mse: 38.3200 - val_loss: 24.2034 - val_mae: 3.6086 - val_mse: 24.2034\n",
            "Epoch 121/2000\n",
            "531/531 [==============================] - 1s 2ms/step - loss: 38.0723 - mae: 4.6585 - mse: 38.0723 - val_loss: 42.8729 - val_mae: 4.7223 - val_mse: 42.8729\n",
            "Epoch 122/2000\n",
            "531/531 [==============================] - 1s 2ms/step - loss: 37.6425 - mae: 4.4235 - mse: 37.6425 - val_loss: 47.4535 - val_mae: 4.6507 - val_mse: 47.4535\n",
            "Epoch 123/2000\n",
            "531/531 [==============================] - 1s 2ms/step - loss: 36.7284 - mae: 4.4977 - mse: 36.7284 - val_loss: 26.2301 - val_mae: 3.7586 - val_mse: 26.2301\n",
            "Epoch 124/2000\n",
            "531/531 [==============================] - 1s 2ms/step - loss: 35.2794 - mae: 4.3731 - mse: 35.2794 - val_loss: 25.6017 - val_mae: 3.9074 - val_mse: 25.6017\n",
            "Epoch 125/2000\n",
            "531/531 [==============================] - 1s 2ms/step - loss: 41.3767 - mae: 4.8999 - mse: 41.3767 - val_loss: 33.3040 - val_mae: 3.8494 - val_mse: 33.3040\n",
            "Epoch 126/2000\n",
            "531/531 [==============================] - 1s 2ms/step - loss: 34.9876 - mae: 4.3926 - mse: 34.9876 - val_loss: 23.7221 - val_mae: 4.0558 - val_mse: 23.7221\n",
            "Epoch 127/2000\n",
            "531/531 [==============================] - 1s 2ms/step - loss: 31.6401 - mae: 4.2071 - mse: 31.6401 - val_loss: 47.0327 - val_mae: 6.0664 - val_mse: 47.0327\n",
            "Epoch 128/2000\n",
            "531/531 [==============================] - 1s 2ms/step - loss: 33.0273 - mae: 4.2971 - mse: 33.0273 - val_loss: 34.0883 - val_mae: 4.4905 - val_mse: 34.0883\n",
            "Epoch 129/2000\n",
            "531/531 [==============================] - 1s 2ms/step - loss: 41.6408 - mae: 4.7467 - mse: 41.6408 - val_loss: 53.9459 - val_mae: 5.6119 - val_mse: 53.9459\n",
            "Epoch 130/2000\n",
            "531/531 [==============================] - 1s 2ms/step - loss: 36.4480 - mae: 4.3427 - mse: 36.4480 - val_loss: 39.0627 - val_mae: 4.8647 - val_mse: 39.0627\n",
            "Epoch 131/2000\n",
            "531/531 [==============================] - 1s 2ms/step - loss: 37.4180 - mae: 4.4728 - mse: 37.4180 - val_loss: 30.1459 - val_mae: 3.8372 - val_mse: 30.1459\n",
            "Epoch 132/2000\n",
            "531/531 [==============================] - 1s 2ms/step - loss: 37.3927 - mae: 4.4604 - mse: 37.3927 - val_loss: 21.5179 - val_mae: 3.7881 - val_mse: 21.5179\n",
            "Epoch 133/2000\n",
            "531/531 [==============================] - 1s 2ms/step - loss: 33.6963 - mae: 4.2556 - mse: 33.6963 - val_loss: 105.9090 - val_mae: 8.8443 - val_mse: 105.9090\n",
            "Epoch 134/2000\n",
            "531/531 [==============================] - 1s 2ms/step - loss: 34.2622 - mae: 4.3748 - mse: 34.2622 - val_loss: 28.9852 - val_mae: 4.5319 - val_mse: 28.9852\n",
            "Epoch 135/2000\n",
            "531/531 [==============================] - 1s 2ms/step - loss: 28.0598 - mae: 3.9826 - mse: 28.0598 - val_loss: 38.8036 - val_mae: 5.0704 - val_mse: 38.8036\n",
            "Epoch 136/2000\n",
            "531/531 [==============================] - 1s 2ms/step - loss: 30.9910 - mae: 4.0511 - mse: 30.9910 - val_loss: 61.3128 - val_mae: 5.8092 - val_mse: 61.3128\n",
            "Epoch 137/2000\n",
            "531/531 [==============================] - 1s 2ms/step - loss: 32.8337 - mae: 4.1984 - mse: 32.8337 - val_loss: 16.0193 - val_mae: 3.2288 - val_mse: 16.0193\n",
            "Epoch 138/2000\n",
            "531/531 [==============================] - 1s 2ms/step - loss: 30.8941 - mae: 4.0957 - mse: 30.8941 - val_loss: 29.7055 - val_mae: 3.6808 - val_mse: 29.7055\n",
            "Epoch 139/2000\n",
            "531/531 [==============================] - 1s 2ms/step - loss: 32.2166 - mae: 4.0881 - mse: 32.2166 - val_loss: 24.5090 - val_mae: 4.0580 - val_mse: 24.5090\n",
            "Epoch 140/2000\n",
            "531/531 [==============================] - 1s 2ms/step - loss: 33.8107 - mae: 4.2284 - mse: 33.8107 - val_loss: 29.9651 - val_mae: 3.9007 - val_mse: 29.9651\n",
            "Epoch 141/2000\n",
            "531/531 [==============================] - 1s 2ms/step - loss: 32.7041 - mae: 4.3098 - mse: 32.7042 - val_loss: 31.7220 - val_mae: 4.3195 - val_mse: 31.7220\n",
            "Epoch 142/2000\n",
            "531/531 [==============================] - 1s 2ms/step - loss: 30.0178 - mae: 4.1006 - mse: 30.0178 - val_loss: 117.2475 - val_mae: 8.6359 - val_mse: 117.2475\n",
            "Epoch 143/2000\n",
            "531/531 [==============================] - 1s 2ms/step - loss: 30.3843 - mae: 4.0967 - mse: 30.3843 - val_loss: 56.4346 - val_mae: 5.0427 - val_mse: 56.4346\n",
            "Epoch 144/2000\n",
            "531/531 [==============================] - 1s 2ms/step - loss: 31.0604 - mae: 4.1507 - mse: 31.0604 - val_loss: 73.5535 - val_mae: 5.8101 - val_mse: 73.5535\n",
            "Epoch 145/2000\n",
            "531/531 [==============================] - 1s 2ms/step - loss: 41.1724 - mae: 4.7060 - mse: 41.1724 - val_loss: 114.4749 - val_mae: 5.4647 - val_mse: 114.4749\n",
            "Epoch 146/2000\n",
            "531/531 [==============================] - 1s 2ms/step - loss: 40.1174 - mae: 4.6450 - mse: 40.1174 - val_loss: 84.4584 - val_mae: 7.2299 - val_mse: 84.4585\n",
            "Epoch 147/2000\n",
            "531/531 [==============================] - 1s 2ms/step - loss: 45.2791 - mae: 4.9741 - mse: 45.2791 - val_loss: 27.5612 - val_mae: 3.6787 - val_mse: 27.5612\n",
            "Epoch 148/2000\n",
            "531/531 [==============================] - 1s 2ms/step - loss: 35.4873 - mae: 4.3450 - mse: 35.4873 - val_loss: 65.0506 - val_mae: 5.6005 - val_mse: 65.0506\n",
            "Epoch 149/2000\n",
            "531/531 [==============================] - 1s 2ms/step - loss: 35.7172 - mae: 4.4149 - mse: 35.7172 - val_loss: 24.0793 - val_mae: 3.8158 - val_mse: 24.0793\n",
            "Epoch 150/2000\n",
            "531/531 [==============================] - 1s 2ms/step - loss: 33.3839 - mae: 4.2166 - mse: 33.3839 - val_loss: 29.1873 - val_mae: 4.2000 - val_mse: 29.1873\n",
            "Epoch 151/2000\n",
            "531/531 [==============================] - 1s 2ms/step - loss: 37.8150 - mae: 4.5566 - mse: 37.8150 - val_loss: 138.9942 - val_mae: 7.8109 - val_mse: 138.9942\n",
            "Epoch 152/2000\n",
            "531/531 [==============================] - 1s 2ms/step - loss: 41.9441 - mae: 4.9587 - mse: 41.9441 - val_loss: 53.7231 - val_mae: 5.2976 - val_mse: 53.7231\n",
            "Epoch 153/2000\n",
            "531/531 [==============================] - 1s 2ms/step - loss: 36.7084 - mae: 4.5547 - mse: 36.7084 - val_loss: 35.2576 - val_mae: 5.1103 - val_mse: 35.2576\n",
            "Epoch 154/2000\n",
            "531/531 [==============================] - 1s 2ms/step - loss: 36.3116 - mae: 4.5193 - mse: 36.3116 - val_loss: 65.8927 - val_mae: 6.3653 - val_mse: 65.8927\n",
            "Epoch 155/2000\n",
            "531/531 [==============================] - 1s 2ms/step - loss: 31.6380 - mae: 4.2026 - mse: 31.6380 - val_loss: 35.5994 - val_mae: 4.5002 - val_mse: 35.5994\n",
            "Epoch 156/2000\n",
            "531/531 [==============================] - 1s 2ms/step - loss: 29.9121 - mae: 4.1440 - mse: 29.9121 - val_loss: 62.5453 - val_mae: 5.8246 - val_mse: 62.5453\n",
            "Epoch 157/2000\n",
            "531/531 [==============================] - 1s 2ms/step - loss: 29.1157 - mae: 4.0542 - mse: 29.1157 - val_loss: 72.9712 - val_mae: 5.4106 - val_mse: 72.9712\n",
            "Epoch 158/2000\n",
            "531/531 [==============================] - 1s 2ms/step - loss: 31.4267 - mae: 4.2097 - mse: 31.4267 - val_loss: 18.8125 - val_mae: 3.4359 - val_mse: 18.8125\n",
            "Epoch 159/2000\n",
            "531/531 [==============================] - 1s 2ms/step - loss: 34.2321 - mae: 4.3890 - mse: 34.2321 - val_loss: 64.6158 - val_mae: 6.2797 - val_mse: 64.6158\n",
            "Epoch 160/2000\n",
            "531/531 [==============================] - 1s 2ms/step - loss: 33.4659 - mae: 4.2149 - mse: 33.4659 - val_loss: 28.3079 - val_mae: 4.1085 - val_mse: 28.3079\n",
            "Epoch 161/2000\n",
            "531/531 [==============================] - 1s 2ms/step - loss: 32.7809 - mae: 4.1181 - mse: 32.7809 - val_loss: 25.7303 - val_mae: 4.3057 - val_mse: 25.7303\n",
            "Epoch 162/2000\n",
            "531/531 [==============================] - 1s 2ms/step - loss: 32.9886 - mae: 4.2576 - mse: 32.9886 - val_loss: 76.4865 - val_mae: 6.6455 - val_mse: 76.4865\n",
            "Epoch 163/2000\n",
            "531/531 [==============================] - 1s 2ms/step - loss: 32.4360 - mae: 4.2423 - mse: 32.4360 - val_loss: 87.8151 - val_mae: 8.3174 - val_mse: 87.8151\n",
            "Epoch 164/2000\n",
            "531/531 [==============================] - 1s 2ms/step - loss: 33.2115 - mae: 4.3515 - mse: 33.2115 - val_loss: 36.0018 - val_mae: 5.2084 - val_mse: 36.0018\n",
            "Epoch 165/2000\n",
            "531/531 [==============================] - 1s 2ms/step - loss: 33.7071 - mae: 4.2647 - mse: 33.7071 - val_loss: 22.8054 - val_mae: 3.6208 - val_mse: 22.8054\n",
            "Epoch 00165: early stopping\n"
          ],
          "name": "stdout"
        }
      ]
    },
    {
      "cell_type": "code",
      "metadata": {
        "id": "CDKL2B764SnC",
        "colab_type": "code",
        "colab": {
          "base_uri": "https://localhost:8080/",
          "height": 313
        },
        "outputId": "13eb01ca-0e09-42c4-9c38-818ec881bcfb"
      },
      "source": [
        "#mae\n",
        "plt.plot(history.history['mae'],label='Predicted')     #train\n",
        "plt.plot(history.history['val_mae'],label='True_value')    #test\n",
        "plt.legend(frameon=False)\n",
        "plt.xlim([0,170])\n",
        "plt.ylim([0,30])\n",
        "\n",
        "plt.title('train&test_MaeCompare')\n",
        "plt.ylabel('mae')\n",
        "plt.xlabel('Epoch')\n",
        "print()"
      ],
      "execution_count": 91,
      "outputs": [
        {
          "output_type": "stream",
          "text": [
            "\n"
          ],
          "name": "stdout"
        },
        {
          "output_type": "display_data",
          "data": {
            "image/png": "[encoded data removed]",
            "text/plain": [
              "<Figure size 432x288 with 1 Axes>"
            ]
          },
          "metadata": {
            "tags": [],
            "needs_background": "light"
          }
        }
      ]
    },
    {
      "cell_type": "code",
      "metadata": {
        "id": "MM_w2HDu4RI3",
        "colab_type": "code",
        "colab": {
          "base_uri": "https://localhost:8080/",
          "height": 313
        },
        "outputId": "2aa549b5-a534-4088-a089-dfb598d7c9f1"
      },
      "source": [
        "#mse\n",
        "plt.plot(history.history['mse'],label='Predicted')\n",
        "plt.plot(history.history['val_mse'],label='True_value')\n",
        "plt.legend(frameon=False)\n",
        "plt.xlim([0,170])\n",
        "plt.ylim([0,200])\n",
        "\n",
        "plt.title('train&test_MseCompare')\n",
        "plt.ylabel('mse')\n",
        "plt.xlabel('Epoch')\n",
        "print()"
      ],
      "execution_count": 96,
      "outputs": [
        {
          "output_type": "stream",
          "text": [
            "\n"
          ],
          "name": "stdout"
        },
        {
          "output_type": "display_data",
          "data": {
            "image/png": "[encoded data removed]",
            "text/plain": [
              "<Figure size 432x288 with 1 Axes>"
            ]
          },
          "metadata": {
            "tags": [],
            "needs_background": "light"
          }
        }
      ]
    },
    {
      "cell_type": "code",
      "metadata": {
        "id": "VAs4MIPrUIAe",
        "colab_type": "code",
        "colab": {}
      },
      "source": [
        "#feature_test = K.cast_to_floatx(feature_test)\n",
        "#solution_test = K.cast_to_floatx(solution_test)\n",
        "solution_predict = model.predict(feature_test)"
      ],
      "execution_count": 93,
      "outputs": []
    },
    {
      "cell_type": "code",
      "metadata": {
        "id": "u0xOETZdXTaA",
        "colab_type": "code",
        "colab": {}
      },
      "source": [
        "solution_predict"
      ],
      "execution_count": null,
      "outputs": []
    },
    {
      "cell_type": "code",
      "metadata": {
        "id": "VnSdF7rXXW5E",
        "colab_type": "code",
        "colab": {}
      },
      "source": [
        "solution_test"
      ],
      "execution_count": null,
      "outputs": []
    },
    {
      "cell_type": "code",
      "metadata": {
        "id": "1fODjqNsUJ0y",
        "colab_type": "code",
        "colab": {
          "base_uri": "https://localhost:8080/",
          "height": 35
        },
        "outputId": "44c41efa-1939-481e-b7ad-8177fe9614b4"
      },
      "source": [
        "#evaluate loss\n",
        "loss = model.evaluate(feature_test,solution_test,verbose=0)\n",
        "loss"
      ],
      "execution_count": 94,
      "outputs": [
        {
          "output_type": "execute_result",
          "data": {
            "text/plain": [
              "[11.103781947383174, 2.590097427368164, 11.103782653808594]"
            ]
          },
          "metadata": {
            "tags": []
          },
          "execution_count": 94
        }
      ]
    },
    {
      "cell_type": "code",
      "metadata": {
        "id": "fWbqz3eHULcQ",
        "colab_type": "code",
        "colab": {
          "base_uri": "https://localhost:8080/",
          "height": 283
        },
        "outputId": "64bc9118-6878-4c40-f008-7db55d81c9a5"
      },
      "source": [
        "#ture & predict比較圖\n",
        "a = plt.axes(aspect='equal')\n",
        "plt.scatter(solution_test, solution_predict)\n",
        "plt.xlabel('True Values')\n",
        "plt.ylabel('Predictions')\n",
        "lims = [275,310]\n",
        "plt.xlim(lims)\n",
        "plt.ylim(lims)\n",
        "_ = plt.plot(lims, lims)\n"
      ],
      "execution_count": 95,
      "outputs": [
        {
          "output_type": "display_data",
          "data": {
            "image/png": "[encoded data removed]",
            "text/plain": [
              "<Figure size 432x288 with 1 Axes>"
            ]
          },
          "metadata": {
            "tags": [],
            "needs_background": "light"
          }
        }
      ]
    },
    {
      "cell_type": "code",
      "metadata": {
        "id": "f1ASCPA43Dhw",
        "colab_type": "code",
        "colab": {
          "base_uri": "https://localhost:8080/",
          "height": 279
        },
        "outputId": "4d4c8891-94a7-4ecf-ec6b-4176270022c7"
      },
      "source": [
        "#errort長條圖\n",
        "error = solution_predict - solution_test\n",
        "plt.hist(error, bins = 25)\n",
        "plt.xlabel(\"Prediction Error\")\n",
        "_ = plt.ylabel(\"Count\")\n"
      ],
      "execution_count": 83,
      "outputs": [
        {
          "output_type": "display_data",
          "data": {
            "image/png": "[encoded data removed]",
            "text/plain": [
              "<Figure size 432x288 with 1 Axes>"
            ]
          },
          "metadata": {
            "tags": [],
            "needs_background": "light"
          }
        }
      ]
    }
  ]
}